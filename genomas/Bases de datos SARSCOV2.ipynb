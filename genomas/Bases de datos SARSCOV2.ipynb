{
  "nbformat": 4,
  "nbformat_minor": 0,
  "metadata": {
    "colab": {
      "name": "SARSCOV2genomas.ipynb",
      "provenance": [],
      "collapsed_sections": [],
      "authorship_tag": "ABX9TyOuOmauoEbKNCjwIWHph4YD",
      "include_colab_link": true
    },
    "kernelspec": {
      "name": "python3",
      "display_name": "Python 3"
    },
    "language_info": {
      "name": "python"
    }
  },
  "cells": [
    {
      "cell_type": "markdown",
      "metadata": {
        "id": "view-in-github",
        "colab_type": "text"
      },
      "source": [
        "<a href=\"https://colab.research.google.com/github/JManuelRG/sarscov2IPN/blob/main/genomas/Bases%20de%20datos%20SARSCOV2.ipynb\" target=\"_parent\"><img src=\"https://colab.research.google.com/assets/colab-badge.svg\" alt=\"Open In Colab\"/></a>"
      ]
    },
    {
      "cell_type": "markdown",
      "metadata": {
        "id": "sFWBsqgf8N8M"
      },
      "source": [
        "# Fuentes públicas de información genética de las variantes más importantes del virus SARS-CoV-2 reportadas en México. \n",
        "\n",
        "# En construcción ...\n",
        "En este repositorio compilaremos las principales bases de datos para acceder al genoma completo de las variantes del SARS-CoV-2 detectadas en México, seleccionadas por su importancia epidemiológica."
      ]
    },
    {
      "cell_type": "markdown",
      "metadata": {
        "id": "J7BdCgTo8s25"
      },
      "source": [
        "# Introducción"
      ]
    },
    {
      "cell_type": "markdown",
      "metadata": {
        "id": "j0BPhieN8tPf"
      },
      "source": [
        "# Bases de Datos:"
      ]
    },
    {
      "cell_type": "markdown",
      "metadata": {
        "id": "YQR-L37J97kl"
      },
      "source": [
        "## **GISAID** \n",
        "## **(Global Initiative on Sharing All Influenza Data)**\n",
        "https://www.gisaid.org/\n",
        "\n",
        "\\\n",
        "\n",
        "### **GISAID**, es una iniciativa internacional para compartir datos genómicos del virus de la influenza y del SARS-CoV-2.\n",
        "\\\n",
        "\n",
        "#### Información filodinámica y distribución filodinámica del SARS-CoV-2.\n",
        "https://www.gisaid.org/phylodynamics/mexico/\n",
        "\n",
        "\n",
        "\n"
      ]
    },
    {
      "cell_type": "markdown",
      "metadata": {
        "id": "52K8Uxne8csq"
      },
      "source": [
        "# Referencias.\n",
        "\n",
        "Hernández‐Huerta, M. T., Pérez‐Campos Mayoral, L., Romero Díaz, C., Martínez Cruz, M., Mayoral‐Andrade, G., Sánchez Navarro, L. M., ... & Matias‐Cervantes, C. A. (2021). Analysis of SARS‐CoV‐2 mutations in Mexico, Belize, and isolated regions of Guatemala and its implication in the diagnosis. Journal of medical virology, 93(4), 2099-2114.\n",
        "https://onlinelibrary.wiley.com/doi/full/10.1002/jmv.26591\n",
        "\n",
        "\\\n",
        "\n",
        "GISAID:\n",
        "https://www.mscbs.gob.es/biblioPublic/publicaciones/recursos_propios/resp/revista_cdrom/Suplementos/Perspectivas/perspectivas15_hernandez_garciamoran_abad_eiros.pdf\n",
        "\n",
        "\n"
      ]
    }
  ]
}