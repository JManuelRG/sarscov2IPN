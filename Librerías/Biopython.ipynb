{
  "nbformat": 4,
  "nbformat_minor": 0,
  "metadata": {
    "colab": {
      "name": "Biopython.ipynb",
      "provenance": [],
      "authorship_tag": "ABX9TyOu9m8dFEzGhekwprwWMcVi",
      "include_colab_link": true
    },
    "kernelspec": {
      "name": "python3",
      "display_name": "Python 3"
    },
    "language_info": {
      "name": "python"
    }
  },
  "cells": [
    {
      "cell_type": "markdown",
      "metadata": {
        "id": "view-in-github",
        "colab_type": "text"
      },
      "source": [
        "<a href=\"https://colab.research.google.com/github/JManuelRG/sarscov2IPN/blob/main/Librer%C3%ADas/Biopython.ipynb\" target=\"_parent\"><img src=\"https://colab.research.google.com/assets/colab-badge.svg\" alt=\"Open In Colab\"/></a>"
      ]
    },
    {
      "cell_type": "markdown",
      "metadata": {
        "id": "heWhQ5XIQGP2"
      },
      "source": [
        "# Librería Bioinformática Biopython\n",
        "\n",
        "Conjunto de herramientas para análisis computacional en el área de bioinformática\n",
        "\n",
        "https://biopython.org/\n",
        "\n",
        "Tutorial:\n",
        "\n",
        "http://biopython.org/DIST/docs/tutorial/Tutorial.html\n",
        "\n",
        "\n",
        "Formato del archivo de secuencia genómica:\n",
        "\n",
        "FASTA:\n",
        "\n",
        "https://sites.google.com/site/genomicaciencias/laboratorio/formato-fasta\n"
      ]
    },
    {
      "cell_type": "markdown",
      "metadata": {
        "id": "mZnQGj_CSaCe"
      },
      "source": [
        "# Instalar Biopython\n",
        "\n",
        "La librería se llama Bio\n",
        "\n",
        "Comando:"
      ]
    },
    {
      "cell_type": "code",
      "metadata": {
        "colab": {
          "base_uri": "https://localhost:8080/"
        },
        "id": "pb_uAJG7QGy1",
        "outputId": "24b22f6f-22c3-49f4-8987-aba137557931"
      },
      "source": [
        "!pip install Bio"
      ],
      "execution_count": 6,
      "outputs": [
        {
          "output_type": "stream",
          "name": "stdout",
          "text": [
            "Collecting Bio\n",
            "  Downloading bio-0.7.7-py3-none-any.whl (80 kB)\n",
            "\u001b[?25l\r\u001b[K     |████                            | 10 kB 42.3 MB/s eta 0:00:01\r\u001b[K     |████████▏                       | 20 kB 50.8 MB/s eta 0:00:01\r\u001b[K     |████████████▎                   | 30 kB 43.3 MB/s eta 0:00:01\r\u001b[K     |████████████████▍               | 40 kB 25.1 MB/s eta 0:00:01\r\u001b[K     |████████████████████▌           | 51 kB 14.6 MB/s eta 0:00:01\r\u001b[K     |████████████████████████▋       | 61 kB 16.8 MB/s eta 0:00:01\r\u001b[K     |████████████████████████████▋   | 71 kB 13.4 MB/s eta 0:00:01\r\u001b[K     |████████████████████████████████| 80 kB 5.3 MB/s \n",
            "\u001b[?25hRequirement already satisfied: requests in /usr/local/lib/python3.7/dist-packages (from Bio) (2.23.0)\n",
            "Collecting biopython>=1.79\n",
            "  Downloading biopython-1.79-cp37-cp37m-manylinux_2_5_x86_64.manylinux1_x86_64.whl (2.3 MB)\n",
            "\u001b[K     |████████████████████████████████| 2.3 MB 36.1 MB/s \n",
            "\u001b[?25hRequirement already satisfied: plac in /usr/local/lib/python3.7/dist-packages (from Bio) (1.1.3)\n",
            "Requirement already satisfied: tqdm>=4.62 in /usr/local/lib/python3.7/dist-packages (from Bio) (4.62.0)\n",
            "Requirement already satisfied: numpy in /usr/local/lib/python3.7/dist-packages (from biopython>=1.79->Bio) (1.19.5)\n",
            "Requirement already satisfied: certifi>=2017.4.17 in /usr/local/lib/python3.7/dist-packages (from requests->Bio) (2021.5.30)\n",
            "Requirement already satisfied: urllib3!=1.25.0,!=1.25.1,<1.26,>=1.21.1 in /usr/local/lib/python3.7/dist-packages (from requests->Bio) (1.24.3)\n",
            "Requirement already satisfied: idna<3,>=2.5 in /usr/local/lib/python3.7/dist-packages (from requests->Bio) (2.10)\n",
            "Requirement already satisfied: chardet<4,>=3.0.2 in /usr/local/lib/python3.7/dist-packages (from requests->Bio) (3.0.4)\n",
            "Installing collected packages: biopython, Bio\n",
            "Successfully installed Bio-0.7.7 biopython-1.79\n"
          ]
        }
      ]
    },
    {
      "cell_type": "markdown",
      "metadata": {
        "id": "eGZeIsWuTBlf"
      },
      "source": [
        "# Importar la librería Biopython"
      ]
    },
    {
      "cell_type": "code",
      "metadata": {
        "id": "_QRQVgjWTA7M"
      },
      "source": [
        "import Bio"
      ],
      "execution_count": 7,
      "outputs": []
    },
    {
      "cell_type": "markdown",
      "metadata": {
        "id": "PE15ueCsVoae"
      },
      "source": [
        "# Tipos de Variables para bioinformática:\n",
        "\n",
        "- Texto: String"
      ]
    },
    {
      "cell_type": "code",
      "metadata": {
        "colab": {
          "base_uri": "https://localhost:8080/",
          "height": 35
        },
        "id": "0NCQhQQ-UIvn",
        "outputId": "ceefd464-6ba1-4151-df27-80022e6523b5"
      },
      "source": [
        "genoma1= \"CGTAACAAGGTTTCCGTAGGTGAACCTGCGGAAGGATCATTGATGAGACCGTGGAATAAACGATCGAGTG\"\n",
        "\n",
        "genoma1"
      ],
      "execution_count": 14,
      "outputs": [
        {
          "output_type": "execute_result",
          "data": {
            "application/vnd.google.colaboratory.intrinsic+json": {
              "type": "string"
            },
            "text/plain": [
              "'CGTAACAAGGTTTCCGTAGGTGAACCTGCGGAAGGATCATTGATGAGACCGTGGAATAAACGATCGAGTG'"
            ]
          },
          "metadata": {},
          "execution_count": 14
        }
      ]
    },
    {
      "cell_type": "code",
      "metadata": {
        "id": "0Nbltoi7XDJp"
      },
      "source": [
        ""
      ],
      "execution_count": null,
      "outputs": []
    },
    {
      "cell_type": "code",
      "metadata": {
        "colab": {
          "base_uri": "https://localhost:8080/",
          "height": 35
        },
        "id": "KrLx5w37WfF0",
        "outputId": "b11d2caa-a511-46f7-e1c2-18784886bd99"
      },
      "source": [
        "#Indexación\n",
        "genoma1[-2]"
      ],
      "execution_count": 19,
      "outputs": [
        {
          "output_type": "execute_result",
          "data": {
            "application/vnd.google.colaboratory.intrinsic+json": {
              "type": "string"
            },
            "text/plain": [
              "'T'"
            ]
          },
          "metadata": {},
          "execution_count": 19
        }
      ]
    },
    {
      "cell_type": "markdown",
      "metadata": {
        "id": "UIk03-SUW_gG"
      },
      "source": [
        "# Slicing\n",
        "\n",
        "https://www.w3schools.com/python/gloss_python_string_slice.asp"
      ]
    },
    {
      "cell_type": "code",
      "metadata": {
        "colab": {
          "base_uri": "https://localhost:8080/",
          "height": 35
        },
        "id": "MZBnRgW-XJyQ",
        "outputId": "a9410841-18df-40d4-e716-a212d3d05176"
      },
      "source": [
        "genoma1[10:20]"
      ],
      "execution_count": 20,
      "outputs": [
        {
          "output_type": "execute_result",
          "data": {
            "application/vnd.google.colaboratory.intrinsic+json": {
              "type": "string"
            },
            "text/plain": [
              "'TTTCCGTAGG'"
            ]
          },
          "metadata": {},
          "execution_count": 20
        }
      ]
    },
    {
      "cell_type": "code",
      "metadata": {
        "colab": {
          "base_uri": "https://localhost:8080/"
        },
        "id": "EC2fYM06X2zV",
        "outputId": "a0eb6edd-234d-4e61-fa02-7df2bf8f05e4"
      },
      "source": [
        "len(genoma1)"
      ],
      "execution_count": 21,
      "outputs": [
        {
          "output_type": "execute_result",
          "data": {
            "text/plain": [
              "70"
            ]
          },
          "metadata": {},
          "execution_count": 21
        }
      ]
    },
    {
      "cell_type": "code",
      "metadata": {
        "colab": {
          "base_uri": "https://localhost:8080/"
        },
        "id": "AjQd9ynWX6Dm",
        "outputId": "decbae52-3648-48ba-e0a7-c7ef45670cee"
      },
      "source": [
        "genoma1.count('AAT')"
      ],
      "execution_count": 27,
      "outputs": [
        {
          "output_type": "execute_result",
          "data": {
            "text/plain": [
              "1"
            ]
          },
          "metadata": {},
          "execution_count": 27
        }
      ]
    },
    {
      "cell_type": "code",
      "metadata": {
        "colab": {
          "base_uri": "https://localhost:8080/"
        },
        "id": "zUlk555waBuQ",
        "outputId": "69c55f70-e62c-407d-92f3-0620a9b0f8cf"
      },
      "source": [
        "type(genoma1)"
      ],
      "execution_count": 31,
      "outputs": [
        {
          "output_type": "execute_result",
          "data": {
            "text/plain": [
              "str"
            ]
          },
          "metadata": {},
          "execution_count": 31
        }
      ]
    },
    {
      "cell_type": "markdown",
      "metadata": {
        "id": "HdkgqcEfY24x"
      },
      "source": [
        "# Tipo de Variable de texto que usa Biopython:\n",
        "\n",
        "- Secuencia (Sequence)\n",
        "\n",
        "Es una variable de cadena de caracteres qe soporta funciones propias de la librería"
      ]
    },
    {
      "cell_type": "code",
      "metadata": {
        "colab": {
          "base_uri": "https://localhost:8080/"
        },
        "id": "irfgupuBZFf6",
        "outputId": "77411391-9895-4777-c70d-9ba940ed369a"
      },
      "source": [
        "# Declarar una secuencia\n",
        "\n",
        "from Bio.Seq import Seq # Importar la función Seq\n",
        "secuencia = Seq(\"GATCG\")\n",
        "print(secuencia)"
      ],
      "execution_count": 29,
      "outputs": [
        {
          "output_type": "stream",
          "name": "stdout",
          "text": [
            "GATCG\n"
          ]
        }
      ]
    },
    {
      "cell_type": "code",
      "metadata": {
        "colab": {
          "base_uri": "https://localhost:8080/"
        },
        "id": "X9RPTB5JZ6Ce",
        "outputId": "1049e122-2bb7-4811-da66-66d65dd3eae9"
      },
      "source": [
        "type(secuencia)"
      ],
      "execution_count": 30,
      "outputs": [
        {
          "output_type": "execute_result",
          "data": {
            "text/plain": [
              "Bio.Seq.Seq"
            ]
          },
          "metadata": {},
          "execution_count": 30
        }
      ]
    },
    {
      "cell_type": "code",
      "metadata": {
        "colab": {
          "base_uri": "https://localhost:8080/"
        },
        "id": "1PFV4jbxaHyk",
        "outputId": "ca37bcfb-2a70-4807-8036-1064ae6d6d7a"
      },
      "source": [
        "for index, letter in enumerate(secuencia):\n",
        "  print(f\"{index} {letter}\")"
      ],
      "execution_count": 39,
      "outputs": [
        {
          "output_type": "stream",
          "name": "stdout",
          "text": [
            "0 G\n",
            "1 A\n",
            "2 T\n",
            "3 C\n",
            "4 G\n"
          ]
        }
      ]
    },
    {
      "cell_type": "code",
      "metadata": {
        "colab": {
          "base_uri": "https://localhost:8080/"
        },
        "id": "yYmuv6C6bRX3",
        "outputId": "984ca1cf-6169-43bf-e2de-433e2243e040"
      },
      "source": [
        "# for ejecuta una serie de acciones repetitivas\n",
        "for i in range(0,len(genoma1)):\n",
        "  print(genoma1[i])"
      ],
      "execution_count": 35,
      "outputs": [
        {
          "output_type": "stream",
          "name": "stdout",
          "text": [
            "C\n",
            "G\n",
            "T\n",
            "A\n",
            "A\n",
            "C\n",
            "A\n",
            "A\n",
            "G\n",
            "G\n",
            "T\n",
            "T\n",
            "T\n",
            "C\n",
            "C\n",
            "G\n",
            "T\n",
            "A\n",
            "G\n",
            "G\n",
            "T\n",
            "G\n",
            "A\n",
            "A\n",
            "C\n",
            "C\n",
            "T\n",
            "G\n",
            "C\n",
            "G\n",
            "G\n",
            "A\n",
            "A\n",
            "G\n",
            "G\n",
            "A\n",
            "T\n",
            "C\n",
            "A\n",
            "T\n",
            "T\n",
            "G\n",
            "A\n",
            "T\n",
            "G\n",
            "A\n",
            "G\n",
            "A\n",
            "C\n",
            "C\n",
            "G\n",
            "T\n",
            "G\n",
            "G\n",
            "A\n",
            "A\n",
            "T\n",
            "A\n",
            "A\n",
            "A\n",
            "C\n",
            "G\n",
            "A\n",
            "T\n",
            "C\n",
            "G\n",
            "A\n",
            "G\n",
            "T\n",
            "G\n"
          ]
        }
      ]
    },
    {
      "cell_type": "markdown",
      "metadata": {
        "id": "hWyeL9pOaPKx"
      },
      "source": [
        "\n",
        "\n"
      ]
    },
    {
      "cell_type": "code",
      "metadata": {
        "colab": {
          "base_uri": "https://localhost:8080/"
        },
        "id": "CW9qE7jYauYY",
        "outputId": "177a3a85-5aea-4b6a-fd69-d4e291c8484c"
      },
      "source": [
        "for i in range(1,21):\n",
        "  print(i) "
      ],
      "execution_count": 33,
      "outputs": [
        {
          "output_type": "stream",
          "name": "stdout",
          "text": [
            "1\n",
            "2\n",
            "3\n",
            "4\n",
            "5\n",
            "6\n",
            "7\n",
            "8\n",
            "9\n",
            "10\n",
            "11\n",
            "12\n",
            "13\n",
            "14\n",
            "15\n",
            "16\n",
            "17\n",
            "18\n",
            "19\n",
            "20\n"
          ]
        }
      ]
    }
  ]
}