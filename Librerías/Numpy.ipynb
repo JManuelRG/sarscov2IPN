{
  "nbformat": 4,
  "nbformat_minor": 0,
  "metadata": {
    "colab": {
      "name": "Numpy.ipynb",
      "provenance": [],
      "authorship_tag": "ABX9TyO/yYYNCE9s4nnt6+qV35Ol",
      "include_colab_link": true
    },
    "kernelspec": {
      "name": "python3",
      "display_name": "Python 3"
    },
    "language_info": {
      "name": "python"
    }
  },
  "cells": [
    {
      "cell_type": "markdown",
      "metadata": {
        "id": "view-in-github",
        "colab_type": "text"
      },
      "source": [
        "<a href=\"https://colab.research.google.com/github/JManuelRG/sarscov2IPN/blob/main/Librer%C3%ADas/Numpy.ipynb\" target=\"_parent\"><img src=\"https://colab.research.google.com/assets/colab-badge.svg\" alt=\"Open In Colab\"/></a>"
      ]
    },
    {
      "cell_type": "markdown",
      "metadata": {
        "id": "2havrm3CsIV4"
      },
      "source": [
        "# Numpy\n",
        "\n",
        "Librería para trabajar con vectores y matrices\n",
        "\n",
        "Explicación grabada:\n",
        "https://youtu.be/QcEzAGZAqcs\n",
        "\n",
        "## Vector: Arreglo unidimensional de datos\n",
        "\n",
        "[1,2,3,4,5,6]\n",
        "\n",
        "[\"A\",\"B\",\"C\",\"D\"]"
      ]
    },
    {
      "cell_type": "markdown",
      "metadata": {
        "id": "5RZ6k9rruhZ8"
      },
      "source": [
        "# Listas"
      ]
    },
    {
      "cell_type": "code",
      "metadata": {
        "colab": {
          "base_uri": "https://localhost:8080/"
        },
        "id": "Gh63vuSesInY",
        "outputId": "da89e88c-98f2-42c9-ae18-be73a2cb3077"
      },
      "source": [
        "# Lista\n",
        "lista=[0,1,2,3,4,5]\n",
        "lista"
      ],
      "execution_count": null,
      "outputs": [
        {
          "output_type": "execute_result",
          "data": {
            "text/plain": [
              "[0, 1, 2, 3, 4, 5]"
            ]
          },
          "metadata": {},
          "execution_count": 2
        }
      ]
    },
    {
      "cell_type": "code",
      "metadata": {
        "colab": {
          "base_uri": "https://localhost:8080/"
        },
        "id": "Z4d_hakwszOQ",
        "outputId": "f5f4709e-4b8e-46d4-d7cf-06b0d0ff9869"
      },
      "source": [
        "lista2=['A','C','T','G']\n",
        "lista2"
      ],
      "execution_count": null,
      "outputs": [
        {
          "output_type": "execute_result",
          "data": {
            "text/plain": [
              "['A', 'C', 'T', 'G']"
            ]
          },
          "metadata": {},
          "execution_count": 4
        }
      ]
    },
    {
      "cell_type": "code",
      "metadata": {
        "colab": {
          "base_uri": "https://localhost:8080/"
        },
        "id": "Ftw4woIKszXu",
        "outputId": "f28c1423-8230-4ba0-aa62-03655e263edb"
      },
      "source": [
        "# Son indexables\n",
        "lista[3]"
      ],
      "execution_count": null,
      "outputs": [
        {
          "output_type": "execute_result",
          "data": {
            "text/plain": [
              "3"
            ]
          },
          "metadata": {},
          "execution_count": 5
        }
      ]
    },
    {
      "cell_type": "code",
      "metadata": {
        "colab": {
          "base_uri": "https://localhost:8080/",
          "height": 35
        },
        "id": "eB6BS1wNtS6j",
        "outputId": "54504deb-9b26-4602-882d-f979986eae53"
      },
      "source": [
        "lista2[2]"
      ],
      "execution_count": null,
      "outputs": [
        {
          "output_type": "execute_result",
          "data": {
            "application/vnd.google.colaboratory.intrinsic+json": {
              "type": "string"
            },
            "text/plain": [
              "'T'"
            ]
          },
          "metadata": {},
          "execution_count": 6
        }
      ]
    },
    {
      "cell_type": "code",
      "metadata": {
        "colab": {
          "base_uri": "https://localhost:8080/"
        },
        "id": "m62d_gbBtgYE",
        "outputId": "925531a0-8f24-4c38-93ae-4a2b93889056"
      },
      "source": [
        "lista2[0]='C'\n",
        "lista2"
      ],
      "execution_count": null,
      "outputs": [
        {
          "output_type": "execute_result",
          "data": {
            "text/plain": [
              "['C', 'C', 'T', 'G']"
            ]
          },
          "metadata": {},
          "execution_count": 8
        }
      ]
    },
    {
      "cell_type": "code",
      "metadata": {
        "colab": {
          "base_uri": "https://localhost:8080/"
        },
        "id": "uCgeYYY4twBS",
        "outputId": "4811f932-32a1-40b5-f8ee-22de5af1fdba"
      },
      "source": [
        "# Operaciones\n",
        "3*lista"
      ],
      "execution_count": null,
      "outputs": [
        {
          "output_type": "execute_result",
          "data": {
            "text/plain": [
              "[0, 1, 2, 3, 4, 5, 0, 1, 2, 3, 4, 5, 0, 1, 2, 3, 4, 5]"
            ]
          },
          "metadata": {},
          "execution_count": 9
        }
      ]
    },
    {
      "cell_type": "code",
      "metadata": {
        "colab": {
          "base_uri": "https://localhost:8080/"
        },
        "id": "vxuoU46juAXk",
        "outputId": "0fba9d8e-8024-4223-d128-8cc28a865b17"
      },
      "source": [
        "# obtener el triple de cada elemento\n",
        "for i in lista:\n",
        "  lista[i]=3*lista[i]\n",
        "\n",
        "lista"
      ],
      "execution_count": null,
      "outputs": [
        {
          "output_type": "execute_result",
          "data": {
            "text/plain": [
              "[0, 3, 6, 9, 12, 15]"
            ]
          },
          "metadata": {},
          "execution_count": 10
        }
      ]
    },
    {
      "cell_type": "markdown",
      "metadata": {
        "id": "BNxNQdl_ulBF"
      },
      "source": [
        "# Tuplas"
      ]
    },
    {
      "cell_type": "code",
      "metadata": {
        "colab": {
          "base_uri": "https://localhost:8080/"
        },
        "id": "RthBMkKwskCh",
        "outputId": "d211b74b-0b5b-48b2-e62c-93ff3a6fe8f9"
      },
      "source": [
        "# Tupla (tuple) Son inmutables\n",
        "tupla = (0,1,2,3,4,5,6)\n",
        "tupla"
      ],
      "execution_count": null,
      "outputs": [
        {
          "output_type": "execute_result",
          "data": {
            "text/plain": [
              "(0, 1, 2, 3, 4, 5, 6)"
            ]
          },
          "metadata": {},
          "execution_count": 11
        }
      ]
    },
    {
      "cell_type": "code",
      "metadata": {
        "colab": {
          "base_uri": "https://localhost:8080/"
        },
        "id": "UFkt1DUVu12C",
        "outputId": "038bfb9d-cd11-4b45-de57-d027bc27f3a2"
      },
      "source": [
        "tupla2=('A','C','T','G')\n",
        "tupla2"
      ],
      "execution_count": null,
      "outputs": [
        {
          "output_type": "execute_result",
          "data": {
            "text/plain": [
              "('A', 'C', 'T', 'G')"
            ]
          },
          "metadata": {},
          "execution_count": 14
        }
      ]
    },
    {
      "cell_type": "code",
      "metadata": {
        "colab": {
          "base_uri": "https://localhost:8080/"
        },
        "id": "EQxPQtzKvH32",
        "outputId": "81a861d5-3679-4d0d-bc43-1c2e1020a791"
      },
      "source": [
        "# Son indexables\n",
        "tupla[1]"
      ],
      "execution_count": null,
      "outputs": [
        {
          "output_type": "execute_result",
          "data": {
            "text/plain": [
              "1"
            ]
          },
          "metadata": {},
          "execution_count": 16
        }
      ]
    },
    {
      "cell_type": "code",
      "metadata": {
        "colab": {
          "base_uri": "https://localhost:8080/"
        },
        "id": "oMq1j-FWvRSp",
        "outputId": "ce9a6c07-ec4d-415f-86ac-1a6765e3bf02"
      },
      "source": [
        "for i in tupla:\n",
        "  print(f\"El elemento con índice {i} de la tupla es: {tupla[i]}\")"
      ],
      "execution_count": null,
      "outputs": [
        {
          "output_type": "stream",
          "name": "stdout",
          "text": [
            "El elemento con índice 0 de la tupla es: 0\n",
            "El elemento con índice 1 de la tupla es: 1\n",
            "El elemento con índice 2 de la tupla es: 2\n",
            "El elemento con índice 3 de la tupla es: 3\n",
            "El elemento con índice 4 de la tupla es: 4\n",
            "El elemento con índice 5 de la tupla es: 5\n",
            "El elemento con índice 6 de la tupla es: 6\n"
          ]
        }
      ]
    },
    {
      "cell_type": "code",
      "metadata": {
        "colab": {
          "base_uri": "https://localhost:8080/"
        },
        "id": "gxMZvaWXwPdq",
        "outputId": "4056b7c2-294d-45dc-b903-f1e00db572b1"
      },
      "source": [
        "for i in range(0,len(tupla2)):\n",
        "  print(f\"El elemento con índice {i} de la tupla es: {tupla2[i]}\")"
      ],
      "execution_count": null,
      "outputs": [
        {
          "output_type": "stream",
          "name": "stdout",
          "text": [
            "El elemento con índice 0 de la tupla es: A\n",
            "El elemento con índice 1 de la tupla es: C\n",
            "El elemento con índice 2 de la tupla es: T\n",
            "El elemento con índice 3 de la tupla es: G\n"
          ]
        }
      ]
    },
    {
      "cell_type": "code",
      "metadata": {
        "colab": {
          "base_uri": "https://localhost:8080/",
          "height": 195
        },
        "id": "CpCfIheqwZUR",
        "outputId": "fa1116e8-db54-4693-d46a-c094f44a73d5"
      },
      "source": [
        "# Las Tuplas no son mutables\n",
        "tupla\n",
        "tupla[0]=99"
      ],
      "execution_count": null,
      "outputs": [
        {
          "output_type": "error",
          "ename": "TypeError",
          "evalue": "ignored",
          "traceback": [
            "\u001b[0;31m---------------------------------------------------------------------------\u001b[0m",
            "\u001b[0;31mTypeError\u001b[0m                                 Traceback (most recent call last)",
            "\u001b[0;32m<ipython-input-29-1fde89121ce0>\u001b[0m in \u001b[0;36m<module>\u001b[0;34m()\u001b[0m\n\u001b[1;32m      1\u001b[0m \u001b[0;31m# Las Tuplas no son mutables\u001b[0m\u001b[0;34m\u001b[0m\u001b[0;34m\u001b[0m\u001b[0;34m\u001b[0m\u001b[0m\n\u001b[1;32m      2\u001b[0m \u001b[0mtupla\u001b[0m\u001b[0;34m\u001b[0m\u001b[0;34m\u001b[0m\u001b[0m\n\u001b[0;32m----> 3\u001b[0;31m \u001b[0mtupla\u001b[0m\u001b[0;34m[\u001b[0m\u001b[0;36m0\u001b[0m\u001b[0;34m]\u001b[0m\u001b[0;34m=\u001b[0m\u001b[0;36m99\u001b[0m\u001b[0;34m\u001b[0m\u001b[0;34m\u001b[0m\u001b[0m\n\u001b[0m",
            "\u001b[0;31mTypeError\u001b[0m: 'tuple' object does not support item assignment"
          ]
        }
      ]
    },
    {
      "cell_type": "markdown",
      "metadata": {
        "id": "KGjAuhDTymxs"
      },
      "source": [
        "# Librería Numpy\n",
        "Librería creada para trabajar con arreglos de datos,\n",
        "vectores y matrices principalmente.\n",
        "\n",
        "Página oficial:\n",
        "\n",
        "https://numpy.org/\n",
        "\n",
        "Tutoriales:\n",
        "\n",
        "https://www.w3schools.com/python/numpy/numpy_intro.asp"
      ]
    },
    {
      "cell_type": "code",
      "metadata": {
        "id": "v3xvduqSyxa-"
      },
      "source": [
        "import numpy as np"
      ],
      "execution_count": null,
      "outputs": []
    },
    {
      "cell_type": "code",
      "metadata": {
        "colab": {
          "base_uri": "https://localhost:8080/"
        },
        "id": "ln07xWYHy2mX",
        "outputId": "6fd41be1-3c83-4edf-a2a4-14d9f1460de1"
      },
      "source": [
        "# Creación de un vector\n",
        "vector1 = np.array([0,1,2,3,4,5,6,7])\n",
        "print(vector1)"
      ],
      "execution_count": null,
      "outputs": [
        {
          "output_type": "stream",
          "name": "stdout",
          "text": [
            "[0 1 2 3 4 5 6 7]\n"
          ]
        }
      ]
    },
    {
      "cell_type": "code",
      "metadata": {
        "colab": {
          "base_uri": "https://localhost:8080/"
        },
        "id": "PFmB8ZvE0EH6",
        "outputId": "e1e044c7-062e-4515-f852-47a00fc7078d"
      },
      "source": [
        "#Indexación\n",
        "vector1[2]"
      ],
      "execution_count": null,
      "outputs": [
        {
          "output_type": "execute_result",
          "data": {
            "text/plain": [
              "2"
            ]
          },
          "metadata": {},
          "execution_count": 35
        }
      ]
    },
    {
      "cell_type": "code",
      "metadata": {
        "colab": {
          "base_uri": "https://localhost:8080/"
        },
        "id": "pj4gkpqb0K38",
        "outputId": "2ee54055-dd71-481b-c921-9c8cf44be58c"
      },
      "source": [
        "#Operaciones:\n",
        "3*vector1"
      ],
      "execution_count": null,
      "outputs": [
        {
          "output_type": "execute_result",
          "data": {
            "text/plain": [
              "array([ 0,  3,  6,  9, 12, 15, 18, 21])"
            ]
          },
          "metadata": {},
          "execution_count": 36
        }
      ]
    },
    {
      "cell_type": "code",
      "metadata": {
        "colab": {
          "base_uri": "https://localhost:8080/"
        },
        "id": "6e2RyGq80XOz",
        "outputId": "fc95ec40-a557-49b9-da5f-a5fa49bfbc4f"
      },
      "source": [
        "vector1**2"
      ],
      "execution_count": null,
      "outputs": [
        {
          "output_type": "execute_result",
          "data": {
            "text/plain": [
              "array([ 0,  1,  4,  9, 16, 25, 36, 49])"
            ]
          },
          "metadata": {},
          "execution_count": 37
        }
      ]
    },
    {
      "cell_type": "code",
      "metadata": {
        "colab": {
          "base_uri": "https://localhost:8080/"
        },
        "id": "cuSdnvUZ0pVp",
        "outputId": "af048fe1-91d3-4c0a-826d-7cd0b8e91164"
      },
      "source": [
        "vector1[0]=100\n",
        "vector1"
      ],
      "execution_count": null,
      "outputs": [
        {
          "output_type": "execute_result",
          "data": {
            "text/plain": [
              "array([100,   1,   2,   3,   4,   5,   6,   7])"
            ]
          },
          "metadata": {},
          "execution_count": 38
        }
      ]
    },
    {
      "cell_type": "markdown",
      "metadata": {
        "id": "8tNUfv3KxV2_"
      },
      "source": [
        "# Matrices: \n",
        "## Arreglos bidimensionales de datos\n",
        "Matriz 1\n",
        "\\begin{equation}\n",
        "\\begin{matrix}\n",
        "a & b\\\\\n",
        "c & d\n",
        "\\end{matrix}\n",
        "\\end{equation}\n",
        "\n",
        "\n",
        "Matriz 2\n",
        "\\begin{equation}\n",
        "\\begin{matrix}\n",
        "1 & 2\\\\\n",
        "3 & 4\n",
        "\\end{matrix}\n",
        "\\end{equation}"
      ]
    },
    {
      "cell_type": "code",
      "metadata": {
        "colab": {
          "base_uri": "https://localhost:8080/"
        },
        "id": "tOdbepP6yjKp",
        "outputId": "c143daca-1362-4ce5-efe2-b98d6c639205"
      },
      "source": [
        "# Matrices\n",
        "matriz1= np.array([['a','b'],\n",
        "                   ['c','d']])\n",
        "matriz1"
      ],
      "execution_count": null,
      "outputs": [
        {
          "output_type": "execute_result",
          "data": {
            "text/plain": [
              "array([['a', 'b'],\n",
              "       ['c', 'd']], dtype='<U1')"
            ]
          },
          "metadata": {},
          "execution_count": 42
        }
      ]
    },
    {
      "cell_type": "code",
      "metadata": {
        "colab": {
          "base_uri": "https://localhost:8080/"
        },
        "id": "fg03Vcdt1uyK",
        "outputId": "6a15da3c-dbf6-46a3-888b-9a7d8a9ad33f"
      },
      "source": [
        "# Matrices\n",
        "matriz2= np.array([['1','2'],\n",
        "                   ['3','4']])\n",
        "matriz2"
      ],
      "execution_count": null,
      "outputs": [
        {
          "output_type": "execute_result",
          "data": {
            "text/plain": [
              "array([['1', '2'],\n",
              "       ['3', '4']], dtype='<U1')"
            ]
          },
          "metadata": {},
          "execution_count": 43
        }
      ]
    },
    {
      "cell_type": "code",
      "metadata": {
        "colab": {
          "base_uri": "https://localhost:8080/",
          "height": 35
        },
        "id": "5z6_RbMV11cY",
        "outputId": "aed1e4b3-2c49-4aed-cf12-91517c915230"
      },
      "source": [
        "# Indexación\n",
        "matriz2[0][1]\n"
      ],
      "execution_count": null,
      "outputs": [
        {
          "output_type": "execute_result",
          "data": {
            "application/vnd.google.colaboratory.intrinsic+json": {
              "type": "string"
            },
            "text/plain": [
              "'2'"
            ]
          },
          "metadata": {},
          "execution_count": 44
        }
      ]
    },
    {
      "cell_type": "code",
      "metadata": {
        "colab": {
          "base_uri": "https://localhost:8080/"
        },
        "id": "J5sDH8ZY2FyL",
        "outputId": "652d03a2-f411-4df0-e3bf-f0784e227198"
      },
      "source": [
        "for fila in range(0,2):\n",
        "  for columna in range(0,2):\n",
        "    print(f\"El elemento de la fila {fila}, columna {columna} de la matriz1 es: {matriz2[fila][columna]}\")"
      ],
      "execution_count": null,
      "outputs": [
        {
          "output_type": "stream",
          "name": "stdout",
          "text": [
            "El elemento de la fila 0, columna 0 de la matriz1 es: 1\n",
            "El elemento de la fila 0, columna 1 de la matriz1 es: 2\n",
            "El elemento de la fila 1, columna 0 de la matriz1 es: 3\n",
            "El elemento de la fila 1, columna 1 de la matriz1 es: 4\n"
          ]
        }
      ]
    },
    {
      "cell_type": "code",
      "metadata": {
        "colab": {
          "base_uri": "https://localhost:8080/"
        },
        "id": "hia2A6iX2Yma",
        "outputId": "72c96395-1509-4c91-ee51-7c6aa0d26594"
      },
      "source": [
        "matriz2"
      ],
      "execution_count": null,
      "outputs": [
        {
          "output_type": "execute_result",
          "data": {
            "text/plain": [
              "array([['1', '2'],\n",
              "       ['3', '4']], dtype='<U1')"
            ]
          },
          "metadata": {},
          "execution_count": 56
        }
      ]
    },
    {
      "cell_type": "code",
      "metadata": {
        "colab": {
          "base_uri": "https://localhost:8080/"
        },
        "id": "mVhhwEon3oxW",
        "outputId": "fc293c5d-5dfa-4def-9454-700db142379b"
      },
      "source": [
        "# Operaciones con vectores\n",
        "vector1"
      ],
      "execution_count": null,
      "outputs": [
        {
          "output_type": "execute_result",
          "data": {
            "text/plain": [
              "array([100,   1,   2,   3,   4,   5,   6,   7])"
            ]
          },
          "metadata": {},
          "execution_count": 57
        }
      ]
    },
    {
      "cell_type": "code",
      "metadata": {
        "colab": {
          "base_uri": "https://localhost:8080/"
        },
        "id": "Y7P0s5Vz3ynt",
        "outputId": "71d9be71-ca7d-4e88-9fca-7f0b6cb7e453"
      },
      "source": [
        "len(vector1)"
      ],
      "execution_count": null,
      "outputs": [
        {
          "output_type": "execute_result",
          "data": {
            "text/plain": [
              "8"
            ]
          },
          "metadata": {},
          "execution_count": 58
        }
      ]
    },
    {
      "cell_type": "code",
      "metadata": {
        "colab": {
          "base_uri": "https://localhost:8080/"
        },
        "id": "lGaeeqDZ3ts3",
        "outputId": "4f3476b2-a73b-4a8d-e490-5dd55ee167b2"
      },
      "source": [
        "vector2=np.linspace(0,10,8)\n",
        "vector2"
      ],
      "execution_count": null,
      "outputs": [
        {
          "output_type": "execute_result",
          "data": {
            "text/plain": [
              "array([ 0.        ,  1.42857143,  2.85714286,  4.28571429,  5.71428571,\n",
              "        7.14285714,  8.57142857, 10.        ])"
            ]
          },
          "metadata": {},
          "execution_count": 60
        }
      ]
    },
    {
      "cell_type": "code",
      "metadata": {
        "colab": {
          "base_uri": "https://localhost:8080/"
        },
        "id": "qrvWSrrh4L-w",
        "outputId": "c4584160-d33a-4bac-d922-5ed59d2997fc"
      },
      "source": [
        "vector1+vector2"
      ],
      "execution_count": null,
      "outputs": [
        {
          "output_type": "execute_result",
          "data": {
            "text/plain": [
              "array([100.        ,   2.42857143,   4.85714286,   7.28571429,\n",
              "         9.71428571,  12.14285714,  14.57142857,  17.        ])"
            ]
          },
          "metadata": {},
          "execution_count": 61
        }
      ]
    },
    {
      "cell_type": "code",
      "metadata": {
        "colab": {
          "base_uri": "https://localhost:8080/"
        },
        "id": "8f23ezbN39vv",
        "outputId": "73718762-bae8-4a4e-d5ef-80c8d4343f3c"
      },
      "source": [
        "# Operación append\n",
        "lista.append(18)\n",
        "\n",
        "lista"
      ],
      "execution_count": null,
      "outputs": [
        {
          "output_type": "execute_result",
          "data": {
            "text/plain": [
              "[0, 3, 6, 9, 12, 15, 18, 18]"
            ]
          },
          "metadata": {},
          "execution_count": 64
        }
      ]
    },
    {
      "cell_type": "code",
      "metadata": {
        "colab": {
          "base_uri": "https://localhost:8080/"
        },
        "id": "y1KidQiQ4l64",
        "outputId": "5dd53037-0264-4e8f-f8a0-c0552808e6dc"
      },
      "source": [
        "vector1"
      ],
      "execution_count": null,
      "outputs": [
        {
          "output_type": "execute_result",
          "data": {
            "text/plain": [
              "array([100,   1,   2,   3,   4,   5,   6,   7])"
            ]
          },
          "metadata": {},
          "execution_count": 65
        }
      ]
    },
    {
      "cell_type": "code",
      "metadata": {
        "id": "hWWcmuxN4pMe"
      },
      "source": [
        ""
      ],
      "execution_count": null,
      "outputs": []
    },
    {
      "cell_type": "markdown",
      "metadata": {
        "id": "-FgX_TGO4uSY"
      },
      "source": [
        "# Append para listas\n",
        "\n"
      ]
    },
    {
      "cell_type": "code",
      "metadata": {
        "colab": {
          "base_uri": "https://localhost:8080/"
        },
        "id": "5hInklcu46_k",
        "outputId": "b0f0ed30-0f7b-4a06-c81d-482f0c12cb45"
      },
      "source": [
        "genoma1 = ['A','C','C','T','G']\n",
        "genoma1"
      ],
      "execution_count": null,
      "outputs": [
        {
          "output_type": "execute_result",
          "data": {
            "text/plain": [
              "['A', 'C', 'C', 'T', 'G']"
            ]
          },
          "metadata": {},
          "execution_count": 67
        }
      ]
    },
    {
      "cell_type": "code",
      "metadata": {
        "colab": {
          "base_uri": "https://localhost:8080/"
        },
        "id": "FcjG74Z-4_N8",
        "outputId": "374c1564-5c3f-4aaf-d4b2-2bfd4428a09f"
      },
      "source": [
        "3*genoma1"
      ],
      "execution_count": null,
      "outputs": [
        {
          "output_type": "execute_result",
          "data": {
            "text/plain": [
              "['A', 'C', 'C', 'T', 'G', 'A', 'C', 'C', 'T', 'G', 'A', 'C', 'C', 'T', 'G']"
            ]
          },
          "metadata": {},
          "execution_count": 68
        }
      ]
    },
    {
      "cell_type": "code",
      "metadata": {
        "id": "Q_6ARaUe5MlQ"
      },
      "source": [
        "genoma1.append(3*genoma1)"
      ],
      "execution_count": null,
      "outputs": []
    },
    {
      "cell_type": "code",
      "metadata": {
        "colab": {
          "base_uri": "https://localhost:8080/"
        },
        "id": "AimKjvC-5UZR",
        "outputId": "81a4f7ed-3124-41d2-8a6c-7535024b2183"
      },
      "source": [
        "genoma1"
      ],
      "execution_count": null,
      "outputs": [
        {
          "output_type": "execute_result",
          "data": {
            "text/plain": [
              "['A',\n",
              " 'C',\n",
              " 'C',\n",
              " 'T',\n",
              " 'G',\n",
              " ['A', 'C', 'C', 'T', 'G', 'A', 'C', 'C', 'T', 'G', 'A', 'C', 'C', 'T', 'G']]"
            ]
          },
          "metadata": {},
          "execution_count": 70
        }
      ]
    },
    {
      "cell_type": "markdown",
      "metadata": {
        "id": "4DPnbOk_5sBY"
      },
      "source": [
        "# Slicing: Corte de elementos del vector\n",
        "\n",
        "Método para aislar de manera directa fracciones del vector:\n",
        "\n",
        "# vector[indice inicial:indice final]"
      ]
    },
    {
      "cell_type": "code",
      "metadata": {
        "id": "MeZWdtGE523M"
      },
      "source": [
        "genoma3=np.array(['A', 'C', 'C', 'T', 'G', 'A', 'C', 'C', 'T', 'G', 'A', 'C', 'C', 'T', 'G','A', 'C', 'C', 'T', 'G', 'A', 'C', 'C', 'T', 'G', 'A', 'C', 'C', 'T', 'G','A', 'C', 'C', 'T', 'G', 'A', 'C', 'C', 'T', 'G', 'A', 'C', 'C', 'T', 'G'])"
      ],
      "execution_count": null,
      "outputs": []
    },
    {
      "cell_type": "code",
      "metadata": {
        "colab": {
          "base_uri": "https://localhost:8080/"
        },
        "id": "z9ZP-RnN6kJT",
        "outputId": "f6e682fc-5204-419e-e1bf-7235c371be2e"
      },
      "source": [
        "genoma3"
      ],
      "execution_count": null,
      "outputs": [
        {
          "output_type": "execute_result",
          "data": {
            "text/plain": [
              "array(['A', 'C', 'C', 'T', 'G', 'A', 'C', 'C', 'T', 'G', 'A', 'C', 'C',\n",
              "       'T', 'G', 'A', 'C', 'C', 'T', 'G', 'A', 'C', 'C', 'T', 'G', 'A',\n",
              "       'C', 'C', 'T', 'G', 'A', 'C', 'C', 'T', 'G', 'A', 'C', 'C', 'T',\n",
              "       'G', 'A', 'C', 'C', 'T', 'G'], dtype='<U1')"
            ]
          },
          "metadata": {},
          "execution_count": 72
        }
      ]
    },
    {
      "cell_type": "code",
      "metadata": {
        "colab": {
          "base_uri": "https://localhost:8080/"
        },
        "id": "ckJtXTG76nJ1",
        "outputId": "14f454ab-4418-4732-81f7-a1ac4c4c0265"
      },
      "source": [
        "len(genoma3)"
      ],
      "execution_count": null,
      "outputs": [
        {
          "output_type": "execute_result",
          "data": {
            "text/plain": [
              "45"
            ]
          },
          "metadata": {},
          "execution_count": 73
        }
      ]
    },
    {
      "cell_type": "code",
      "metadata": {
        "colab": {
          "base_uri": "https://localhost:8080/",
          "height": 35
        },
        "id": "KPAM6sLy6vgs",
        "outputId": "2870d5a0-95b6-4f48-d6fe-950f2045761f"
      },
      "source": [
        "genoma3[0]"
      ],
      "execution_count": null,
      "outputs": [
        {
          "output_type": "execute_result",
          "data": {
            "application/vnd.google.colaboratory.intrinsic+json": {
              "type": "string"
            },
            "text/plain": [
              "'A'"
            ]
          },
          "metadata": {},
          "execution_count": 74
        }
      ]
    },
    {
      "cell_type": "code",
      "metadata": {
        "colab": {
          "base_uri": "https://localhost:8080/"
        },
        "id": "ZTx-ClNl62MW",
        "outputId": "a6222295-9422-423d-efbc-d9a4b3e85619"
      },
      "source": [
        "#Desde el índice 10 al 32\n",
        "genoma3[10:32]"
      ],
      "execution_count": null,
      "outputs": [
        {
          "output_type": "execute_result",
          "data": {
            "text/plain": [
              "array(['A', 'C', 'C', 'T', 'G', 'A', 'C', 'C', 'T', 'G', 'A', 'C', 'C',\n",
              "       'T', 'G', 'A', 'C', 'C', 'T', 'G', 'A', 'C'], dtype='<U1')"
            ]
          },
          "metadata": {},
          "execution_count": 75
        }
      ]
    },
    {
      "cell_type": "code",
      "metadata": {
        "colab": {
          "base_uri": "https://localhost:8080/"
        },
        "id": "UB7mx3K47bhi",
        "outputId": "8d1fcf11-60ce-4763-c65f-0e0ba0050e15"
      },
      "source": [
        "# Desde el elemento 4 hasta el final del vector\n",
        "genoma3[4:]"
      ],
      "execution_count": null,
      "outputs": [
        {
          "output_type": "execute_result",
          "data": {
            "text/plain": [
              "array(['G', 'A', 'C', 'C', 'T', 'G', 'A', 'C', 'C', 'T', 'G', 'A', 'C',\n",
              "       'C', 'T', 'G', 'A', 'C', 'C', 'T', 'G', 'A', 'C', 'C', 'T', 'G',\n",
              "       'A', 'C', 'C', 'T', 'G', 'A', 'C', 'C', 'T', 'G', 'A', 'C', 'C',\n",
              "       'T', 'G'], dtype='<U1')"
            ]
          },
          "metadata": {},
          "execution_count": 76
        }
      ]
    },
    {
      "cell_type": "code",
      "metadata": {
        "colab": {
          "base_uri": "https://localhost:8080/"
        },
        "id": "pGzyUkNC7m1-",
        "outputId": "1343e026-1ca1-4cf3-ac4f-b3d5565a5ac1"
      },
      "source": [
        "# Desde el inicio del vector hasta el elemento 5\n",
        "genoma3[:5]"
      ],
      "execution_count": null,
      "outputs": [
        {
          "output_type": "execute_result",
          "data": {
            "text/plain": [
              "array(['A', 'C', 'C', 'T', 'G'], dtype='<U1')"
            ]
          },
          "metadata": {},
          "execution_count": 77
        }
      ]
    },
    {
      "cell_type": "code",
      "metadata": {
        "colab": {
          "base_uri": "https://localhost:8080/"
        },
        "id": "8AoUkRlv8Btk",
        "outputId": "84e46fc5-4305-4481-a9c0-218873391541"
      },
      "source": [
        "# Corte con índice negativo\n",
        "genoma3"
      ],
      "execution_count": null,
      "outputs": [
        {
          "output_type": "execute_result",
          "data": {
            "text/plain": [
              "array(['A', 'C', 'C', 'T', 'G', 'A', 'C', 'C', 'T', 'G', 'A', 'C', 'C',\n",
              "       'T', 'G', 'A', 'C', 'C', 'T', 'G', 'A', 'C', 'C', 'T', 'G', 'A',\n",
              "       'C', 'C', 'T', 'G', 'A', 'C', 'C', 'T', 'G', 'A', 'C', 'C', 'T',\n",
              "       'G', 'A', 'C', 'C', 'T', 'G'], dtype='<U1')"
            ]
          },
          "metadata": {},
          "execution_count": 78
        }
      ]
    },
    {
      "cell_type": "code",
      "metadata": {
        "colab": {
          "base_uri": "https://localhost:8080/",
          "height": 35
        },
        "id": "aTd4GZFH8Gao",
        "outputId": "47e97cea-01e9-41b3-acc1-ea218eae0f60"
      },
      "source": [
        "# El último elemento tiene un índice de -1\n",
        "genoma3[-1]"
      ],
      "execution_count": null,
      "outputs": [
        {
          "output_type": "execute_result",
          "data": {
            "application/vnd.google.colaboratory.intrinsic+json": {
              "type": "string"
            },
            "text/plain": [
              "'G'"
            ]
          },
          "metadata": {},
          "execution_count": 79
        }
      ]
    },
    {
      "cell_type": "code",
      "metadata": {
        "colab": {
          "base_uri": "https://localhost:8080/",
          "height": 35
        },
        "id": "r19Ws94N8P_x",
        "outputId": "b33eb9ce-aa7a-4d24-b6ae-3cad5822925e"
      },
      "source": [
        "genoma3[-2]"
      ],
      "execution_count": null,
      "outputs": [
        {
          "output_type": "execute_result",
          "data": {
            "application/vnd.google.colaboratory.intrinsic+json": {
              "type": "string"
            },
            "text/plain": [
              "'T'"
            ]
          },
          "metadata": {},
          "execution_count": 80
        }
      ]
    },
    {
      "cell_type": "code",
      "metadata": {
        "colab": {
          "base_uri": "https://localhost:8080/"
        },
        "id": "1Qvv1PMy8XoN",
        "outputId": "b456448c-8933-476c-b528-50ebf135edc4"
      },
      "source": [
        "np.append(genoma3[-5:-1],genoma3[len(genoma3)-1])"
      ],
      "execution_count": null,
      "outputs": [
        {
          "output_type": "execute_result",
          "data": {
            "text/plain": [
              "array(['A', 'C', 'C', 'T', 'G'], dtype='<U1')"
            ]
          },
          "metadata": {},
          "execution_count": 87
        }
      ]
    },
    {
      "cell_type": "code",
      "metadata": {
        "colab": {
          "base_uri": "https://localhost:8080/",
          "height": 35
        },
        "id": "4NGS8a-p8-Zr",
        "outputId": "7b7d029c-78f1-4dee-c72b-aeb2f6b02c04"
      },
      "source": [
        "genoma3[len(genoma3)-1]"
      ],
      "execution_count": null,
      "outputs": [
        {
          "output_type": "execute_result",
          "data": {
            "application/vnd.google.colaboratory.intrinsic+json": {
              "type": "string"
            },
            "text/plain": [
              "'G'"
            ]
          },
          "metadata": {},
          "execution_count": 86
        }
      ]
    }
  ]
}