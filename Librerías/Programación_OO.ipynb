{
  "nbformat": 4,
  "nbformat_minor": 0,
  "metadata": {
    "colab": {
      "name": "Programación OO.ipynb",
      "provenance": [],
      "authorship_tag": "ABX9TyOmR6Iu/UDc2viXAPe4tfiG",
      "include_colab_link": true
    },
    "kernelspec": {
      "name": "python3",
      "display_name": "Python 3"
    },
    "language_info": {
      "name": "python"
    }
  },
  "cells": [
    {
      "cell_type": "markdown",
      "metadata": {
        "id": "view-in-github",
        "colab_type": "text"
      },
      "source": [
        "<a href=\"https://colab.research.google.com/github/JManuelRG/sarscov2IPN/blob/main/Librer%C3%ADas/Programaci%C3%B3n_OO.ipynb\" target=\"_parent\"><img src=\"https://colab.research.google.com/assets/colab-badge.svg\" alt=\"Open In Colab\"/></a>"
      ]
    },
    {
      "cell_type": "markdown",
      "metadata": {
        "id": "cBBw1LQonrbZ"
      },
      "source": [
        "# Programación Orientada a Objetos\n",
        "# para el Análisis del genoma del SARS CoV 2\n",
        "\n",
        "Fuente de la Base de Datos\n",
        "https://www.ncbi.nlm.nih.gov/labs/virus/vssi/#/virus?SeqType_s=Nucleotide&VirusLineage_ss=Wuhan%20seafood%20market%20pneumonia%20virus,%20taxid:2697049\n"
      ]
    },
    {
      "cell_type": "markdown",
      "metadata": {
        "id": "QCZxAbIFoHUq"
      },
      "source": [
        "Video Explicativo\n",
        "https://youtu.be/UZppuv45mG8"
      ]
    },
    {
      "cell_type": "code",
      "metadata": {
        "colab": {
          "base_uri": "https://localhost:8080/"
        },
        "id": "Xqfa767ooYQA",
        "outputId": "f08b851b-85ff-4455-bb90-d1df0fac96e9"
      },
      "source": [
        "# Programación Estructurada\n",
        "A=10\n",
        "B=12\n",
        "C=30\n",
        "\n",
        "print(A+B+C)"
      ],
      "execution_count": 6,
      "outputs": [
        {
          "output_type": "stream",
          "name": "stdout",
          "text": [
            "52\n"
          ]
        }
      ]
    },
    {
      "cell_type": "code",
      "metadata": {
        "id": "EOAvfSIwolW7"
      },
      "source": [
        "# Programación Funcional\n",
        "\n",
        "# Suma\n",
        "def suma(X,Y):\n",
        "  return X+Y\n"
      ],
      "execution_count": 7,
      "outputs": []
    },
    {
      "cell_type": "code",
      "metadata": {
        "colab": {
          "base_uri": "https://localhost:8080/"
        },
        "id": "JSKqr-Mpo4kl",
        "outputId": "5024fc1b-8e0e-4be0-824b-156c0a21343c"
      },
      "source": [
        "print(suma(10,12))\n",
        "print(suma(5,7))"
      ],
      "execution_count": 10,
      "outputs": [
        {
          "output_type": "stream",
          "name": "stdout",
          "text": [
            "22\n",
            "12\n"
          ]
        }
      ]
    },
    {
      "cell_type": "markdown",
      "metadata": {
        "id": "_DqB0dZXpyEw"
      },
      "source": [
        "Un objeto es una forma de agrupar información dentro de Python, se le conoce como Clase.\n",
        "https://www.w3schools.com/python/python_classes.asp"
      ]
    },
    {
      "cell_type": "code",
      "metadata": {
        "id": "szMcDH9BpK_P"
      },
      "source": [
        "# Programación Orientada a Objetos\n",
        "\n",
        "class SARSCOV2:\n",
        "  indice=\"NC_045512\"\n",
        "  nombre=\"Severe acute respiratory syndrome coronavirus 2 isolate Wuhan-Hu-1, complete genome.\"\n",
        "  bases=29903\n",
        "  organismo=\"Severe acute respiratory syndrome coronavirus 2\"\n",
        "  huesped=\"Homo sapiens\"\n",
        "  gen={\"nombre\":\"ORF1ab\", \"inicio\":266, \"final\":21555}\n"
      ],
      "execution_count": 31,
      "outputs": []
    },
    {
      "cell_type": "code",
      "metadata": {
        "colab": {
          "base_uri": "https://localhost:8080/"
        },
        "id": "f9PzhuIOtLu8",
        "outputId": "414ff7e3-3ce1-4868-8de0-86c9a74e09e6"
      },
      "source": [
        "gen = [\"ORF1ab\",266,21555]\n",
        "gen[2]"
      ],
      "execution_count": 25,
      "outputs": [
        {
          "output_type": "execute_result",
          "data": {
            "text/plain": [
              "21555"
            ]
          },
          "metadata": {},
          "execution_count": 25
        }
      ]
    },
    {
      "cell_type": "code",
      "metadata": {
        "colab": {
          "base_uri": "https://localhost:8080/"
        },
        "id": "uWYe86oHtmpK",
        "outputId": "3405d0ee-acd7-4d48-d10c-4dc8d183fb5f"
      },
      "source": [
        "dic \n",
        "dic[\"final\"]"
      ],
      "execution_count": 30,
      "outputs": [
        {
          "output_type": "execute_result",
          "data": {
            "text/plain": [
              "21555"
            ]
          },
          "metadata": {},
          "execution_count": 30
        }
      ]
    },
    {
      "cell_type": "code",
      "metadata": {
        "colab": {
          "base_uri": "https://localhost:8080/"
        },
        "id": "hT006Tvbrt8e",
        "outputId": "db6f2def-ddf3-441c-ab31-d91ffdb6eb42"
      },
      "source": [
        "# Para consultar los atributos se coloca\n",
        "# Nombre.atributo\n",
        "print(SARSCOV2.indice)\n",
        "print(SARSCOV2.nombre)\n",
        "print(SARSCOV2.bases)\n",
        "print(SARSCOV2.organismo)"
      ],
      "execution_count": 18,
      "outputs": [
        {
          "output_type": "stream",
          "name": "stdout",
          "text": [
            "NC_045512\n",
            "Severe acute respiratory syndrome coronavirus 2 isolate Wuhan-Hu-1, complete genome.\n",
            "29903\n",
            "Severe acute respiratory syndrome coronavirus 2\n"
          ]
        }
      ]
    },
    {
      "cell_type": "code",
      "metadata": {
        "colab": {
          "base_uri": "https://localhost:8080/",
          "height": 35
        },
        "id": "dzoZokqXsbJz",
        "outputId": "c56315f8-7775-4432-c64b-e43e08a48992"
      },
      "source": [
        "SARSCOV2.huesped"
      ],
      "execution_count": 20,
      "outputs": [
        {
          "output_type": "execute_result",
          "data": {
            "application/vnd.google.colaboratory.intrinsic+json": {
              "type": "string"
            },
            "text/plain": [
              "'Homo sapiens'"
            ]
          },
          "metadata": {},
          "execution_count": 20
        }
      ]
    },
    {
      "cell_type": "code",
      "metadata": {
        "colab": {
          "base_uri": "https://localhost:8080/",
          "height": 35
        },
        "id": "-Es7fXfAuTSY",
        "outputId": "ef270e35-41fb-4f03-9f55-47ce60cfc903"
      },
      "source": [
        "SARSCOV2.gen[\"nombre\"]\n",
        "SARSCOV2."
      ],
      "execution_count": 33,
      "outputs": [
        {
          "output_type": "execute_result",
          "data": {
            "application/vnd.google.colaboratory.intrinsic+json": {
              "type": "string"
            },
            "text/plain": [
              "'ORF1ab'"
            ]
          },
          "metadata": {},
          "execution_count": 33
        }
      ]
    },
    {
      "cell_type": "markdown",
      "metadata": {
        "id": "AgUbCwA8vWcR"
      },
      "source": [
        "# Instanciación\n",
        "\n",
        "Inicializar un objeto con los valores y métodos que va a contener"
      ]
    },
    {
      "cell_type": "code",
      "metadata": {
        "id": "j4N2vjcHvhxF"
      },
      "source": [
        "class Virus:\n",
        "  def __init__(self, indice, nombre, bases, organismo, huesped, gen):\n",
        "    self.indice = indice\n",
        "    self.nombre = nombre\n",
        "    self.bases = bases\n",
        "    self.organismo = organismo\n",
        "    self.huesped =huesped\n",
        "    self.gen =gen\n"
      ],
      "execution_count": 50,
      "outputs": []
    },
    {
      "cell_type": "code",
      "metadata": {
        "id": "EufUYvCRw4az"
      },
      "source": [
        "# Instanciar\n",
        "sarsCovWuhan = Virus(\"NC_045512\",\"SARS CoV 2 Wuhan\",29903,\n",
        "                     \"Severe acute respiratory syndrome coronavirus 2\", \"Homo sapiens\",\n",
        "                     {\"nombre\":\"ORF1ab\", \"inicio\":266, \"final\":21555})"
      ],
      "execution_count": 51,
      "outputs": []
    },
    {
      "cell_type": "code",
      "metadata": {
        "id": "sKCZqvOkyGO0"
      },
      "source": [
        "sarsCovGatos = Virus(nombre=\"Severe acute respiratory syndrome coronavirus 2 isolate SARS-CoV-2/Felis Catus/DEU/NW-FLI-0721/2021, complete genome.\",\n",
        "                     indice=\"MZ317675\", organismo=\"Severe acute respiratory syndrome coronavirus 2\",\n",
        "                     huesped=\"Felis Catus\", gen={\"nombre\":\"ORF1ab\",\"inicio\":267, \"final\":21547},\n",
        "                     bases=29854)"
      ],
      "execution_count": 52,
      "outputs": []
    },
    {
      "cell_type": "code",
      "metadata": {
        "colab": {
          "base_uri": "https://localhost:8080/"
        },
        "id": "C6RU-NvIwSsZ",
        "outputId": "9fd289d2-b725-42de-8297-96b5174f785d"
      },
      "source": [
        "  sarsCovWuhan.bases"
      ],
      "execution_count": 53,
      "outputs": [
        {
          "output_type": "execute_result",
          "data": {
            "text/plain": [
              "29903"
            ]
          },
          "metadata": {},
          "execution_count": 53
        }
      ]
    },
    {
      "cell_type": "code",
      "metadata": {
        "colab": {
          "base_uri": "https://localhost:8080/"
        },
        "id": "5V-y-sP-zT5X",
        "outputId": "71ee7c02-1023-4a94-acb9-8087f53eefe6"
      },
      "source": [
        "sarsCovGatos.bases"
      ],
      "execution_count": 55,
      "outputs": [
        {
          "output_type": "execute_result",
          "data": {
            "text/plain": [
              "29854"
            ]
          },
          "metadata": {},
          "execution_count": 55
        }
      ]
    },
    {
      "cell_type": "code",
      "metadata": {
        "id": "Hh7AG69lzXAn"
      },
      "source": [
        "resta=sarsCovWuhan.bases-sarsCovGatos.bases"
      ],
      "execution_count": 56,
      "outputs": []
    },
    {
      "cell_type": "code",
      "metadata": {
        "colab": {
          "base_uri": "https://localhost:8080/"
        },
        "id": "xz-xNwjKzj2d",
        "outputId": "c3e41fac-be25-4163-8c4d-80367d702c40"
      },
      "source": [
        "print(f\"El virus {sarsCovWuhan.nombre} contiene {sarsCovWuhan.bases} nucleótidos en su genoma\")"
      ],
      "execution_count": 57,
      "outputs": [
        {
          "output_type": "stream",
          "name": "stdout",
          "text": [
            "El virus SARS CoV 2 Wuhan contiene 29903 nucleótidos en su genoma\n"
          ]
        }
      ]
    },
    {
      "cell_type": "code",
      "metadata": {
        "colab": {
          "base_uri": "https://localhost:8080/"
        },
        "id": "ukHNXR730FPn",
        "outputId": "de659844-9e5c-4278-ba9d-20cd53550364"
      },
      "source": [
        "print(f\"El virus {sarsCovGatos.nombre} contiene {sarsCovGatos.bases} nucleótidos en su genoma\")"
      ],
      "execution_count": 58,
      "outputs": [
        {
          "output_type": "stream",
          "name": "stdout",
          "text": [
            "El virus Severe acute respiratory syndrome coronavirus 2 isolate SARS-CoV-2/Felis Catus/DEU/NW-FLI-0721/2021, complete genome. contiene 29854 nucleótidos en su genoma\n"
          ]
        }
      ]
    },
    {
      "cell_type": "code",
      "metadata": {
        "colab": {
          "base_uri": "https://localhost:8080/"
        },
        "id": "tO6f8FsV0NNd",
        "outputId": "a934dd74-a163-4e7e-aa4c-79e1c1c3a777"
      },
      "source": [
        "print(f\"El virus {sarsCovGatos.nombre} contiene {resta} más bases nitrogenadas que el {sarsCovWuhan.nombre} en su genoma\")"
      ],
      "execution_count": 59,
      "outputs": [
        {
          "output_type": "stream",
          "name": "stdout",
          "text": [
            "El virus Severe acute respiratory syndrome coronavirus 2 isolate SARS-CoV-2/Felis Catus/DEU/NW-FLI-0721/2021, complete genome. contiene 49 más bases nitrogenadas que el SARS CoV 2 Wuhan en su genoma\n"
          ]
        }
      ]
    }
  ]
}